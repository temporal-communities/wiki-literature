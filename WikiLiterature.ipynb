{
  "nbformat": 4,
  "nbformat_minor": 0,
  "metadata": {
    "colab": {
      "provenance": [],
      "toc_visible": true,
      "authorship_tag": "ABX9TyOPcciJwG2ajuBGEaSVCo2j"
    },
    "kernelspec": {
      "name": "python3",
      "display_name": "Python 3"
    },
    "language_info": {
      "name": "python"
    }
  },
  "cells": [
    {
      "cell_type": "markdown",
      "source": [
        "# 🛠️ Setup – Run once"
      ],
      "metadata": {
        "id": "z13fgNtjQmpI"
      }
    },
    {
      "cell_type": "code",
      "source": [
        "# @title Code download\n",
        "# @markdown This block initialises the notebook.\n",
        "!rm -r sample_data\n",
        "!mkdir data\n",
        "!mkdir export\n",
        "!mkdir plots\n",
        "!wget -O wikilit.zip \"https://userpage.fu-berlin.de/fu7182rx/wikilit.zip\"\n",
        "!unzip -o wikilit.zip\n",
        "!rm wikilit.zip\n",
        "\n",
        "# Git method\n",
        "# !git clone https://github.com/v-ji/wiki-literature\n",
        "# !mv wiki-literature/* .\n",
        "# !rm -r wiki-literature\n"
      ],
      "metadata": {
        "id": "6sud4v-0YF9n",
        "colab": {
          "base_uri": "https://localhost:8080/"
        },
        "outputId": "4f56a07a-cf41-403b-8543-4da550d0f9f0"
      },
      "execution_count": 7,
      "outputs": [
        {
          "output_type": "stream",
          "name": "stdout",
          "text": [
            "rm: cannot remove 'sample_data': No such file or directory\n",
            "mkdir: cannot create directory ‘data’: File exists\n",
            "mkdir: cannot create directory ‘export’: File exists\n",
            "mkdir: cannot create directory ‘plots’: File exists\n",
            "Cloning into 'wiki-literature'...\n",
            "remote: Enumerating objects: 10, done.\u001b[K\n",
            "remote: Counting objects: 100% (10/10), done.\u001b[K\n",
            "remote: Compressing objects: 100% (9/9), done.\u001b[K\n",
            "remote: Total 10 (delta 1), reused 10 (delta 1), pack-reused 0\u001b[K\n",
            "Receiving objects: 100% (10/10), 20.72 KiB | 2.30 MiB/s, done.\n",
            "Resolving deltas: 100% (1/1), done.\n"
          ]
        }
      ]
    },
    {
      "cell_type": "code",
      "source": [
        "# @title Package installation\n",
        "# @markdown This block installs the required packages.\n",
        "!pip install -r requirements.txt"
      ],
      "metadata": {
        "colab": {
          "base_uri": "https://localhost:8080/"
        },
        "id": "LAB_TFHIBRMS",
        "outputId": "49cb4d09-2a8c-493c-fc04-c92aac61b927",
        "cellView": "form"
      },
      "execution_count": 8,
      "outputs": [
        {
          "output_type": "stream",
          "name": "stdout",
          "text": [
            "Collecting kaleido==0.2.1 (from -r requirements.txt (line 1))\n",
            "  Downloading kaleido-0.2.1-py2.py3-none-manylinux1_x86_64.whl (79.9 MB)\n",
            "\u001b[2K     \u001b[90m━━━━━━━━━━━━━━━━━━━━━━━━━━━━━━━━━━━━━━━━\u001b[0m \u001b[32m79.9/79.9 MB\u001b[0m \u001b[31m9.4 MB/s\u001b[0m eta \u001b[36m0:00:00\u001b[0m\n",
            "\u001b[?25hCollecting plotly-express==0.4.1 (from -r requirements.txt (line 2))\n",
            "  Downloading plotly_express-0.4.1-py2.py3-none-any.whl (2.9 kB)\n",
            "Collecting plotly==5.14.1 (from -r requirements.txt (line 3))\n",
            "  Downloading plotly-5.14.1-py2.py3-none-any.whl (15.3 MB)\n",
            "\u001b[2K     \u001b[90m━━━━━━━━━━━━━━━━━━━━━━━━━━━━━━━━━━━━━━━━\u001b[0m \u001b[32m15.3/15.3 MB\u001b[0m \u001b[31m79.4 MB/s\u001b[0m eta \u001b[36m0:00:00\u001b[0m\n",
            "\u001b[?25hCollecting polars==0.19.7 (from -r requirements.txt (line 4))\n",
            "  Downloading polars-0.19.7-cp38-abi3-manylinux_2_17_x86_64.manylinux2014_x86_64.whl (27.4 MB)\n",
            "\u001b[2K     \u001b[90m━━━━━━━━━━━━━━━━━━━━━━━━━━━━━━━━━━━━━━━━\u001b[0m \u001b[32m27.4/27.4 MB\u001b[0m \u001b[31m57.2 MB/s\u001b[0m eta \u001b[36m0:00:00\u001b[0m\n",
            "\u001b[?25hCollecting pywikibot==8.1.2 (from -r requirements.txt (line 5))\n",
            "  Downloading pywikibot-8.1.2-py3-none-any.whl (701 kB)\n",
            "\u001b[2K     \u001b[90m━━━━━━━━━━━━━━━━━━━━━━━━━━━━━━━━━━━━━━\u001b[0m \u001b[32m701.0/701.0 kB\u001b[0m \u001b[31m51.4 MB/s\u001b[0m eta \u001b[36m0:00:00\u001b[0m\n",
            "\u001b[?25hRequirement already satisfied: requests==2.31.0 in /usr/local/lib/python3.10/dist-packages (from -r requirements.txt (line 6)) (2.31.0)\n",
            "Collecting tqdm==4.65.0 (from -r requirements.txt (line 7))\n",
            "  Downloading tqdm-4.65.0-py3-none-any.whl (77 kB)\n",
            "\u001b[2K     \u001b[90m━━━━━━━━━━━━━━━━━━━━━━━━━━━━━━━━━━━━━━━━\u001b[0m \u001b[32m77.1/77.1 kB\u001b[0m \u001b[31m8.8 MB/s\u001b[0m eta \u001b[36m0:00:00\u001b[0m\n",
            "\u001b[?25hCollecting XlsxWriter==3.1.6 (from -r requirements.txt (line 8))\n",
            "  Downloading XlsxWriter-3.1.6-py3-none-any.whl (154 kB)\n",
            "\u001b[2K     \u001b[90m━━━━━━━━━━━━━━━━━━━━━━━━━━━━━━━━━━━━━━\u001b[0m \u001b[32m154.3/154.3 kB\u001b[0m \u001b[31m16.5 MB/s\u001b[0m eta \u001b[36m0:00:00\u001b[0m\n",
            "\u001b[?25hRequirement already satisfied: pandas>=0.20.0 in /usr/local/lib/python3.10/dist-packages (from plotly-express==0.4.1->-r requirements.txt (line 2)) (1.5.3)\n",
            "Requirement already satisfied: statsmodels>=0.9.0 in /usr/local/lib/python3.10/dist-packages (from plotly-express==0.4.1->-r requirements.txt (line 2)) (0.14.0)\n",
            "Requirement already satisfied: scipy>=0.18 in /usr/local/lib/python3.10/dist-packages (from plotly-express==0.4.1->-r requirements.txt (line 2)) (1.11.3)\n",
            "Requirement already satisfied: patsy>=0.5 in /usr/local/lib/python3.10/dist-packages (from plotly-express==0.4.1->-r requirements.txt (line 2)) (0.5.3)\n",
            "Requirement already satisfied: numpy>=1.11 in /usr/local/lib/python3.10/dist-packages (from plotly-express==0.4.1->-r requirements.txt (line 2)) (1.23.5)\n",
            "Requirement already satisfied: tenacity>=6.2.0 in /usr/local/lib/python3.10/dist-packages (from plotly==5.14.1->-r requirements.txt (line 3)) (8.2.3)\n",
            "Requirement already satisfied: packaging in /usr/local/lib/python3.10/dist-packages (from plotly==5.14.1->-r requirements.txt (line 3)) (23.2)\n",
            "Collecting mwparserfromhell>=0.5.2 (from pywikibot==8.1.2->-r requirements.txt (line 5))\n",
            "  Downloading mwparserfromhell-0.6.5-cp310-cp310-manylinux_2_17_x86_64.manylinux2014_x86_64.whl (191 kB)\n",
            "\u001b[2K     \u001b[90m━━━━━━━━━━━━━━━━━━━━━━━━━━━━━━━━━━━━━━\u001b[0m \u001b[32m191.0/191.0 kB\u001b[0m \u001b[31m20.4 MB/s\u001b[0m eta \u001b[36m0:00:00\u001b[0m\n",
            "\u001b[?25hRequirement already satisfied: setuptools>=48.0.0 in /usr/local/lib/python3.10/dist-packages (from pywikibot==8.1.2->-r requirements.txt (line 5)) (67.7.2)\n",
            "Requirement already satisfied: charset-normalizer<4,>=2 in /usr/local/lib/python3.10/dist-packages (from requests==2.31.0->-r requirements.txt (line 6)) (3.3.0)\n",
            "Requirement already satisfied: idna<4,>=2.5 in /usr/local/lib/python3.10/dist-packages (from requests==2.31.0->-r requirements.txt (line 6)) (3.4)\n",
            "Requirement already satisfied: urllib3<3,>=1.21.1 in /usr/local/lib/python3.10/dist-packages (from requests==2.31.0->-r requirements.txt (line 6)) (2.0.6)\n",
            "Requirement already satisfied: certifi>=2017.4.17 in /usr/local/lib/python3.10/dist-packages (from requests==2.31.0->-r requirements.txt (line 6)) (2023.7.22)\n",
            "Requirement already satisfied: python-dateutil>=2.8.1 in /usr/local/lib/python3.10/dist-packages (from pandas>=0.20.0->plotly-express==0.4.1->-r requirements.txt (line 2)) (2.8.2)\n",
            "Requirement already satisfied: pytz>=2020.1 in /usr/local/lib/python3.10/dist-packages (from pandas>=0.20.0->plotly-express==0.4.1->-r requirements.txt (line 2)) (2023.3.post1)\n",
            "Requirement already satisfied: six in /usr/local/lib/python3.10/dist-packages (from patsy>=0.5->plotly-express==0.4.1->-r requirements.txt (line 2)) (1.16.0)\n",
            "Installing collected packages: kaleido, XlsxWriter, tqdm, polars, plotly, mwparserfromhell, pywikibot, plotly-express\n",
            "  Attempting uninstall: tqdm\n",
            "    Found existing installation: tqdm 4.66.1\n",
            "    Uninstalling tqdm-4.66.1:\n",
            "      Successfully uninstalled tqdm-4.66.1\n",
            "  Attempting uninstall: polars\n",
            "    Found existing installation: polars 0.17.3\n",
            "    Uninstalling polars-0.17.3:\n",
            "      Successfully uninstalled polars-0.17.3\n",
            "  Attempting uninstall: plotly\n",
            "    Found existing installation: plotly 5.15.0\n",
            "    Uninstalling plotly-5.15.0:\n",
            "      Successfully uninstalled plotly-5.15.0\n",
            "Successfully installed XlsxWriter-3.1.6 kaleido-0.2.1 mwparserfromhell-0.6.5 plotly-5.14.1 plotly-express-0.4.1 polars-0.19.7 pywikibot-8.1.2 tqdm-4.65.0\n"
          ]
        }
      ]
    },
    {
      "cell_type": "code",
      "source": [
        "# @title Package imports\n",
        "# @markdown This block imports the necessary packages.\n",
        "from wikilit import wikilit\n",
        "import polars as pl\n",
        "import plotly.express as px\n",
        "# Colab files handling\n",
        "from google.colab import files\n",
        "import os"
      ],
      "metadata": {
        "id": "fe4WF7iXA85V",
        "cellView": "form"
      },
      "execution_count": 9,
      "outputs": []
    },
    {
      "cell_type": "markdown",
      "source": [
        "# 📚 Selection Method\n",
        "\n",
        "This notebook supports multiple selection methods that determine the way the list of articles is compiled.\n",
        "\n",
        "__Note:__ When parsing page names, formats with spaces (`Charlotte Brontë`) and underscores (`Charlotte_Brontë`) are both supported."
      ],
      "metadata": {
        "id": "_rQRxeVN8QPW"
      }
    },
    {
      "cell_type": "markdown",
      "source": [
        "## Article’s language links (`langlinks`)\n",
        "This method compiles all interlanguage links of a certain article, i.e. versions of the article on other editions of the site. The `selection` should be an article title.\n",
        "\n",
        "Examples: `Charlotte Brontë`, `Virginia Wolff`, `César Aira`, `Herta Müller`, `Elfriede Jelinek`, `Christa Wolf`, `Nikos Kazantzakis`."
      ],
      "metadata": {
        "id": "UEHzdPsZF48L"
      }
    },
    {
      "cell_type": "code",
      "source": [
        "selection_method = \"langlinks\"\n",
        "article_title = \"Elfriede Jelinek\" # @param [\"Charlotte Brontë\", \"Virginia Wolff\", \"César Aira\", \"Herta Müller\", \"Elfriede Jelinek\", \"Christa Wolf\", \"Nikos Kazantzakis\"] {allow-input: true}\n",
        "selection = article_title\n",
        "site = \"wikipedia\" # @param [\"wikipedia\"] {allow-input: true}\n",
        "lang = \"en\" # @param {type:\"string\"}"
      ],
      "metadata": {
        "id": "8dmQxccxRhYZ",
        "cellView": "form"
      },
      "execution_count": 12,
      "outputs": []
    },
    {
      "cell_type": "markdown",
      "source": [
        "## Articles of a category (`category`)\n",
        "This method selects all articles in a MediaWiki category and its subcategories. The `selection` should be a category title.\n",
        "\n",
        "Examples: `19th-century English women writers`, `Chinese women novelists`, `North Korean novelists`."
      ],
      "metadata": {
        "id": "WBN4LRERF9zC"
      }
    },
    {
      "cell_type": "code",
      "source": [
        "selection_method = \"category\"\n",
        "category_title = \"Brazilian LGBT novelists\" # @param [\"19th-century English women writers\", \"North Korean novelists\", \"Chinese women novelists\", \"South Korean women novelists\", \"Brazilian LGBT novelists\"] {allow-input: true}\n",
        "selection = category_title\n",
        "site = \"wikipedia\" # @param [\"wikipedia\"] {allow-input: true}\n",
        "lang = \"en\" # @param {type:\"string\"}"
      ],
      "metadata": {
        "id": "SyMhfDeM8Js8",
        "cellView": "form"
      },
      "execution_count": 10,
      "outputs": []
    },
    {
      "cell_type": "markdown",
      "source": [
        "## Articles from a file (`file`)\n",
        "This method reads article titles from a tab-separated values (TSV) file you supply.\n",
        "\n",
        "The resulting dataframe retains all columns of the supplied file and includes the page stats as additional columns. This allows you to enrich existing datasets.\n",
        "\n",
        "This method is especially useful when combined with output from the [Wikidata Query Service](https://query.wikidata.org/).\n",
        "\n",
        "`article_title_column` determines which column will be used as the article title."
      ],
      "metadata": {
        "id": "UQJ18-vJGFmw"
      }
    },
    {
      "cell_type": "code",
      "source": [
        "selection_method = \"file\"\n",
        "article_title_column = \"desc\"  # @param {type:\"string\"}\n",
        "site = \"wikipedia\"  # @param [\"wikipedia\"] {allow-input: true}\n",
        "lang = \"en\" # @param [\"en\", \"de\", \"fr\", \"es\", \"ja\", \"ru\", \"pt\", \"zh\", \"it\", \"ar\"] {allow-input: true}\n",
        "\n",
        "# Upload file\n",
        "uploaded = files.upload()\n",
        "file_list = list(uploaded.keys())\n",
        "\n",
        "# Check file\n",
        "if len(file_list) > 1:\n",
        "    for file in file_list:\n",
        "        os.remove(file)\n",
        "    raise ValueError(\"Please only upload one file.\")\n",
        "\n",
        "filename = file_list[0]\n",
        "if not filename.endswith(\".tsv\"):\n",
        "    os.remove(filename)\n",
        "    raise ValueError(\"File must be TSV.\")\n",
        "\n",
        "# Move file to data/ directory\n",
        "dest = \"data/input.tsv\"\n",
        "os.rename(filename, dest)\n",
        "print(f\"File saved as {dest}\")\n",
        "selection = dest"
      ],
      "metadata": {
        "colab": {
          "base_uri": "https://localhost:8080/",
          "height": 90
        },
        "id": "XTvMNZ_l8ulS",
        "outputId": "7171f7a3-184c-4172-efc6-9097c0e5f9fc",
        "cellView": "form"
      },
      "execution_count": 4,
      "outputs": [
        {
          "output_type": "display_data",
          "data": {
            "text/plain": [
              "<IPython.core.display.HTML object>"
            ],
            "text/html": [
              "\n",
              "     <input type=\"file\" id=\"files-4c4b56bf-da7d-4cce-97ce-0d1020db6845\" name=\"files[]\" multiple disabled\n",
              "        style=\"border:none\" />\n",
              "     <output id=\"result-4c4b56bf-da7d-4cce-97ce-0d1020db6845\">\n",
              "      Upload widget is only available when the cell has been executed in the\n",
              "      current browser session. Please rerun this cell to enable.\n",
              "      </output>\n",
              "      <script>// Copyright 2017 Google LLC\n",
              "//\n",
              "// Licensed under the Apache License, Version 2.0 (the \"License\");\n",
              "// you may not use this file except in compliance with the License.\n",
              "// You may obtain a copy of the License at\n",
              "//\n",
              "//      http://www.apache.org/licenses/LICENSE-2.0\n",
              "//\n",
              "// Unless required by applicable law or agreed to in writing, software\n",
              "// distributed under the License is distributed on an \"AS IS\" BASIS,\n",
              "// WITHOUT WARRANTIES OR CONDITIONS OF ANY KIND, either express or implied.\n",
              "// See the License for the specific language governing permissions and\n",
              "// limitations under the License.\n",
              "\n",
              "/**\n",
              " * @fileoverview Helpers for google.colab Python module.\n",
              " */\n",
              "(function(scope) {\n",
              "function span(text, styleAttributes = {}) {\n",
              "  const element = document.createElement('span');\n",
              "  element.textContent = text;\n",
              "  for (const key of Object.keys(styleAttributes)) {\n",
              "    element.style[key] = styleAttributes[key];\n",
              "  }\n",
              "  return element;\n",
              "}\n",
              "\n",
              "// Max number of bytes which will be uploaded at a time.\n",
              "const MAX_PAYLOAD_SIZE = 100 * 1024;\n",
              "\n",
              "function _uploadFiles(inputId, outputId) {\n",
              "  const steps = uploadFilesStep(inputId, outputId);\n",
              "  const outputElement = document.getElementById(outputId);\n",
              "  // Cache steps on the outputElement to make it available for the next call\n",
              "  // to uploadFilesContinue from Python.\n",
              "  outputElement.steps = steps;\n",
              "\n",
              "  return _uploadFilesContinue(outputId);\n",
              "}\n",
              "\n",
              "// This is roughly an async generator (not supported in the browser yet),\n",
              "// where there are multiple asynchronous steps and the Python side is going\n",
              "// to poll for completion of each step.\n",
              "// This uses a Promise to block the python side on completion of each step,\n",
              "// then passes the result of the previous step as the input to the next step.\n",
              "function _uploadFilesContinue(outputId) {\n",
              "  const outputElement = document.getElementById(outputId);\n",
              "  const steps = outputElement.steps;\n",
              "\n",
              "  const next = steps.next(outputElement.lastPromiseValue);\n",
              "  return Promise.resolve(next.value.promise).then((value) => {\n",
              "    // Cache the last promise value to make it available to the next\n",
              "    // step of the generator.\n",
              "    outputElement.lastPromiseValue = value;\n",
              "    return next.value.response;\n",
              "  });\n",
              "}\n",
              "\n",
              "/**\n",
              " * Generator function which is called between each async step of the upload\n",
              " * process.\n",
              " * @param {string} inputId Element ID of the input file picker element.\n",
              " * @param {string} outputId Element ID of the output display.\n",
              " * @return {!Iterable<!Object>} Iterable of next steps.\n",
              " */\n",
              "function* uploadFilesStep(inputId, outputId) {\n",
              "  const inputElement = document.getElementById(inputId);\n",
              "  inputElement.disabled = false;\n",
              "\n",
              "  const outputElement = document.getElementById(outputId);\n",
              "  outputElement.innerHTML = '';\n",
              "\n",
              "  const pickedPromise = new Promise((resolve) => {\n",
              "    inputElement.addEventListener('change', (e) => {\n",
              "      resolve(e.target.files);\n",
              "    });\n",
              "  });\n",
              "\n",
              "  const cancel = document.createElement('button');\n",
              "  inputElement.parentElement.appendChild(cancel);\n",
              "  cancel.textContent = 'Cancel upload';\n",
              "  const cancelPromise = new Promise((resolve) => {\n",
              "    cancel.onclick = () => {\n",
              "      resolve(null);\n",
              "    };\n",
              "  });\n",
              "\n",
              "  // Wait for the user to pick the files.\n",
              "  const files = yield {\n",
              "    promise: Promise.race([pickedPromise, cancelPromise]),\n",
              "    response: {\n",
              "      action: 'starting',\n",
              "    }\n",
              "  };\n",
              "\n",
              "  cancel.remove();\n",
              "\n",
              "  // Disable the input element since further picks are not allowed.\n",
              "  inputElement.disabled = true;\n",
              "\n",
              "  if (!files) {\n",
              "    return {\n",
              "      response: {\n",
              "        action: 'complete',\n",
              "      }\n",
              "    };\n",
              "  }\n",
              "\n",
              "  for (const file of files) {\n",
              "    const li = document.createElement('li');\n",
              "    li.append(span(file.name, {fontWeight: 'bold'}));\n",
              "    li.append(span(\n",
              "        `(${file.type || 'n/a'}) - ${file.size} bytes, ` +\n",
              "        `last modified: ${\n",
              "            file.lastModifiedDate ? file.lastModifiedDate.toLocaleDateString() :\n",
              "                                    'n/a'} - `));\n",
              "    const percent = span('0% done');\n",
              "    li.appendChild(percent);\n",
              "\n",
              "    outputElement.appendChild(li);\n",
              "\n",
              "    const fileDataPromise = new Promise((resolve) => {\n",
              "      const reader = new FileReader();\n",
              "      reader.onload = (e) => {\n",
              "        resolve(e.target.result);\n",
              "      };\n",
              "      reader.readAsArrayBuffer(file);\n",
              "    });\n",
              "    // Wait for the data to be ready.\n",
              "    let fileData = yield {\n",
              "      promise: fileDataPromise,\n",
              "      response: {\n",
              "        action: 'continue',\n",
              "      }\n",
              "    };\n",
              "\n",
              "    // Use a chunked sending to avoid message size limits. See b/62115660.\n",
              "    let position = 0;\n",
              "    do {\n",
              "      const length = Math.min(fileData.byteLength - position, MAX_PAYLOAD_SIZE);\n",
              "      const chunk = new Uint8Array(fileData, position, length);\n",
              "      position += length;\n",
              "\n",
              "      const base64 = btoa(String.fromCharCode.apply(null, chunk));\n",
              "      yield {\n",
              "        response: {\n",
              "          action: 'append',\n",
              "          file: file.name,\n",
              "          data: base64,\n",
              "        },\n",
              "      };\n",
              "\n",
              "      let percentDone = fileData.byteLength === 0 ?\n",
              "          100 :\n",
              "          Math.round((position / fileData.byteLength) * 100);\n",
              "      percent.textContent = `${percentDone}% done`;\n",
              "\n",
              "    } while (position < fileData.byteLength);\n",
              "  }\n",
              "\n",
              "  // All done.\n",
              "  yield {\n",
              "    response: {\n",
              "      action: 'complete',\n",
              "    }\n",
              "  };\n",
              "}\n",
              "\n",
              "scope.google = scope.google || {};\n",
              "scope.google.colab = scope.google.colab || {};\n",
              "scope.google.colab._files = {\n",
              "  _uploadFiles,\n",
              "  _uploadFilesContinue,\n",
              "};\n",
              "})(self);\n",
              "</script> "
            ]
          },
          "metadata": {}
        },
        {
          "output_type": "stream",
          "name": "stdout",
          "text": [
            "Saving test.tsv to test.tsv\n",
            "File saved as data/input.tsv\n"
          ]
        }
      ]
    },
    {
      "cell_type": "markdown",
      "source": [
        "# 🛰️ Data Retrieval\n",
        "\n",
        "This section retrieves the data from the pages you selected above.\n",
        "\n",
        "## Columns\n",
        "- `length`: Length of the article in bytes\n",
        "- `n_contributors`: Number of contributors\n",
        "- `n_revisions`: Number of revisions\n",
        "- `n_extlinks`: Number of external links\n",
        "- `n_langlinks`: Number of interlanguage links\n",
        "- `n_links`: Number of internal links\n",
        "- `n_linkshere`: Number of pages linking to this page\n",
        "- `n_categories`: Number of categories the page is in\n",
        "- `pageviews_60d`: Number of pageviews in the last 60 days\n",
        "- `first_revision`: Date of the first revision (i.e. creation date)\n",
        "\n",
        "### Metadata columns\n",
        "- `selection_method`: The method used to select the articles\n",
        "- `selection`: The selection used to select the articles\n",
        "- `selection_case`: The name of the case within the selection\n",
        "\n",
        "The data is stored in a [Polars](https://pola.rs/) dataframe, which is similar to a Pandas dataframe."
      ],
      "metadata": {
        "id": "J7ao2L7BCzrX"
      }
    },
    {
      "cell_type": "code",
      "source": [
        "# @title Fetch\n",
        "print(\n",
        "    f\"Retrieving data using selection_method='{selection_method}' and selection='{selection}' from {lang}.{site}\"\n",
        ")\n",
        "\n",
        "if \"article_title_column\" not in locals():\n",
        "    article_title_column = None\n",
        "\n",
        "data = wikilit(\n",
        "  selection_method=selection_method,\n",
        "  selection=selection,\n",
        "  lang=lang,\n",
        "  site=site,\n",
        "  article_title_column=article_title_column\n",
        ")\n",
        "\n",
        "print(data)\n",
        "data.write_csv(\"data/output.tsv\", separator=\"\\t\")\n",
        "print(\"Wrote data to data/output.tsv\")\n"
      ],
      "metadata": {
        "colab": {
          "base_uri": "https://localhost:8080/"
        },
        "id": "WXeOvWi3A0je",
        "outputId": "d314ae9e-250d-42df-ed86-f1308f69f1da",
        "cellView": "form"
      },
      "execution_count": 11,
      "outputs": [
        {
          "output_type": "stream",
          "name": "stdout",
          "text": [
            "Retrieving data using selection_method='category' and selection='Brazilian LGBT novelists' from en.wikipedia\n"
          ]
        },
        {
          "output_type": "stream",
          "name": "stderr",
          "text": [
            "Getting page stats: 100%|██████████| 10/10 [00:38<00:00,  3.84s/it, João Silvério Trevisan]"
          ]
        },
        {
          "output_type": "stream",
          "name": "stdout",
          "text": [
            "shape: (10, 15)\n",
            "┌────────────┬────────────┬────────┬───────────┬───┬───────────┬───────────┬───────────┬───────────┐\n",
            "│ title      ┆ url        ┆ length ┆ n_contrib ┆ … ┆ first_rev ┆ selection ┆ selection ┆ selection │\n",
            "│ ---        ┆ ---        ┆ ---    ┆ utors     ┆   ┆ ision     ┆ _method   ┆ ---       ┆ _case     │\n",
            "│ str        ┆ str        ┆ i64    ┆ ---       ┆   ┆ ---       ┆ ---       ┆ str       ┆ ---       │\n",
            "│            ┆            ┆        ┆ i64       ┆   ┆ datetime[ ┆ str       ┆           ┆ str       │\n",
            "│            ┆            ┆        ┆           ┆   ┆ μs]       ┆           ┆           ┆           │\n",
            "╞════════════╪════════════╪════════╪═══════════╪═══╪═══════════╪═══════════╪═══════════╪═══════════╡\n",
            "│ Lúcio      ┆ https://en ┆ 7806   ┆ 44        ┆ … ┆ 2008-05-0 ┆ category  ┆ Brazilian ┆ Lúcio     │\n",
            "│ Cardoso    ┆ .wikipedia ┆        ┆           ┆   ┆ 5         ┆           ┆ LGBT      ┆ Cardoso   │\n",
            "│            ┆ .org/wiki/ ┆        ┆           ┆   ┆ 12:45:00  ┆           ┆ novelists ┆           │\n",
            "│            ┆ L%…        ┆        ┆           ┆   ┆           ┆           ┆           ┆           │\n",
            "│ Vange      ┆ https://en ┆ 11737  ┆ 50        ┆ … ┆ 2014-01-0 ┆ category  ┆ Brazilian ┆ Vange     │\n",
            "│ Leonel     ┆ .wikipedia ┆        ┆           ┆   ┆ 5         ┆           ┆ LGBT      ┆ Leonel    │\n",
            "│            ┆ .org/wiki/ ┆        ┆           ┆   ┆ 20:23:37  ┆           ┆ novelists ┆           │\n",
            "│            ┆ Va…        ┆        ┆           ┆   ┆           ┆           ┆           ┆           │\n",
            "│ Anyda      ┆ https://en ┆ 12152  ┆ 60        ┆ … ┆ 2006-02-2 ┆ category  ┆ Brazilian ┆ Anyda     │\n",
            "│ Marchant   ┆ .wikipedia ┆        ┆           ┆   ┆ 6         ┆           ┆ LGBT      ┆ Marchant  │\n",
            "│            ┆ .org/wiki/ ┆        ┆           ┆   ┆ 05:04:11  ┆           ┆ novelists ┆           │\n",
            "│            ┆ An…        ┆        ┆           ┆   ┆           ┆           ┆           ┆           │\n",
            "│ João W.    ┆ https://en ┆ 5128   ┆ 22        ┆ … ┆ 2019-07-2 ┆ category  ┆ Brazilian ┆ João W.   │\n",
            "│ Nery       ┆ .wikipedia ┆        ┆           ┆   ┆ 8         ┆           ┆ LGBT      ┆ Nery      │\n",
            "│            ┆ .org/wiki/ ┆        ┆           ┆   ┆ 21:51:22  ┆           ┆ novelists ┆           │\n",
            "│            ┆ Jo…        ┆        ┆           ┆   ┆           ┆           ┆           ┆           │\n",
            "│ …          ┆ …          ┆ …      ┆ …         ┆ … ┆ …         ┆ …         ┆ …         ┆ …         │\n",
            "│ Manuel     ┆ https://en ┆ 13708  ┆ 177       ┆ … ┆ 2004-06-2 ┆ category  ┆ Brazilian ┆ Manuel    │\n",
            "│ Puig       ┆ .wikipedia ┆        ┆           ┆   ┆ 1         ┆           ┆ LGBT      ┆ Puig      │\n",
            "│            ┆ .org/wiki/ ┆        ┆           ┆   ┆ 01:11:58  ┆           ┆ novelists ┆           │\n",
            "│            ┆ Ma…        ┆        ┆           ┆   ┆           ┆           ┆           ┆           │\n",
            "│ Cassandra  ┆ https://en ┆ 2423   ┆ 25        ┆ … ┆ 2015-07-1 ┆ category  ┆ Brazilian ┆ Cassandra │\n",
            "│ Rios       ┆ .wikipedia ┆        ┆           ┆   ┆ 7         ┆           ┆ LGBT      ┆ Rios      │\n",
            "│            ┆ .org/wiki/ ┆        ┆           ┆   ┆ 10:20:23  ┆           ┆ novelists ┆           │\n",
            "│            ┆ Ca…        ┆        ┆           ┆   ┆           ┆           ┆           ┆           │\n",
            "│ Aguinaldo  ┆ https://en ┆ 4407   ┆ 23        ┆ … ┆ 2016-07-0 ┆ category  ┆ Brazilian ┆ Aguinaldo │\n",
            "│ Silva      ┆ .wikipedia ┆        ┆           ┆   ┆ 9         ┆           ┆ LGBT      ┆ Silva     │\n",
            "│            ┆ .org/wiki/ ┆        ┆           ┆   ┆ 12:07:21  ┆           ┆ novelists ┆           │\n",
            "│            ┆ Ag…        ┆        ┆           ┆   ┆           ┆           ┆           ┆           │\n",
            "│ João       ┆ https://en ┆ 8022   ┆ 43        ┆ … ┆ 2007-07-1 ┆ category  ┆ Brazilian ┆ João      │\n",
            "│ Silvério   ┆ .wikipedia ┆        ┆           ┆   ┆ 3         ┆           ┆ LGBT      ┆ Silvério  │\n",
            "│ Trevisan   ┆ .org/wiki/ ┆        ┆           ┆   ┆ 05:36:24  ┆           ┆ novelists ┆ Trevisan  │\n",
            "│            ┆ Jo…        ┆        ┆           ┆   ┆           ┆           ┆           ┆           │\n",
            "└────────────┴────────────┴────────┴───────────┴───┴───────────┴───────────┴───────────┴───────────┘\n",
            "Wrote data to data/output.tsv\n"
          ]
        },
        {
          "output_type": "stream",
          "name": "stderr",
          "text": [
            "\n"
          ]
        }
      ]
    },
    {
      "cell_type": "code",
      "source": [
        "# @title Data export\n",
        "format = \"TSV\"  # @param [\"TSV\", \"Excel\"]\n",
        "filename = \"output\"  # @param {type:\"string\"}\n",
        "\n",
        "export_dir = \"export/\"\n",
        "\n",
        "output_file = \"\" + export_dir + filename\n",
        "\n",
        "if format == \"TSV\":\n",
        "    output_file += \".tsv\"\n",
        "    data.write_csv(output_file, separator=\"\\t\")\n",
        "elif format == \"Excel\":\n",
        "    output_file += \".xlsx\"\n",
        "    data.write_excel(output_file)\n",
        "\n",
        "files.download(output_file)"
      ],
      "metadata": {
        "colab": {
          "base_uri": "https://localhost:8080/",
          "height": 17
        },
        "cellView": "form",
        "id": "g-22c8iMnfpI",
        "outputId": "10dc884c-30f5-480c-d2df-bd59c182f314"
      },
      "execution_count": 10,
      "outputs": [
        {
          "output_type": "display_data",
          "data": {
            "text/plain": [
              "<IPython.core.display.Javascript object>"
            ],
            "application/javascript": [
              "\n",
              "    async function download(id, filename, size) {\n",
              "      if (!google.colab.kernel.accessAllowed) {\n",
              "        return;\n",
              "      }\n",
              "      const div = document.createElement('div');\n",
              "      const label = document.createElement('label');\n",
              "      label.textContent = `Downloading \"${filename}\": `;\n",
              "      div.appendChild(label);\n",
              "      const progress = document.createElement('progress');\n",
              "      progress.max = size;\n",
              "      div.appendChild(progress);\n",
              "      document.body.appendChild(div);\n",
              "\n",
              "      const buffers = [];\n",
              "      let downloaded = 0;\n",
              "\n",
              "      const channel = await google.colab.kernel.comms.open(id);\n",
              "      // Send a message to notify the kernel that we're ready.\n",
              "      channel.send({})\n",
              "\n",
              "      for await (const message of channel.messages) {\n",
              "        // Send a message to notify the kernel that we're ready.\n",
              "        channel.send({})\n",
              "        if (message.buffers) {\n",
              "          for (const buffer of message.buffers) {\n",
              "            buffers.push(buffer);\n",
              "            downloaded += buffer.byteLength;\n",
              "            progress.value = downloaded;\n",
              "          }\n",
              "        }\n",
              "      }\n",
              "      const blob = new Blob(buffers, {type: 'application/binary'});\n",
              "      const a = document.createElement('a');\n",
              "      a.href = window.URL.createObjectURL(blob);\n",
              "      a.download = filename;\n",
              "      div.appendChild(a);\n",
              "      a.click();\n",
              "      div.remove();\n",
              "    }\n",
              "  "
            ]
          },
          "metadata": {}
        },
        {
          "output_type": "display_data",
          "data": {
            "text/plain": [
              "<IPython.core.display.Javascript object>"
            ],
            "application/javascript": [
              "download(\"download_0a38fce4-4a78-41e0-b5cc-7730b4914bde\", \"output.tsv\", 1883)"
            ]
          },
          "metadata": {}
        }
      ]
    },
    {
      "cell_type": "markdown",
      "source": [
        "# 📊 Plotting\n",
        "\n",
        "This section allows you to plot your data onto a graph.\n"
      ],
      "metadata": {
        "id": "cprBfFjyC3qS"
      }
    },
    {
      "cell_type": "code",
      "source": [
        "# @title Bar plot\n",
        "\n",
        "template = \"plotly_white\"\n",
        "yaxis_var = \"length\" # @param [\"length\", \"n_contributors\", \"n_revisions\", \"n_extlinks\", \"n_langlinks\", \"n_links\", \"n_linkshere\", \"n_categories\", \"pageviews_60d\", \"first_revision\"] {allow-input: true}\n",
        "yaxis_type = \"Auto\" # @param [\"Auto\", \"linear\", \"log\", \"date\"] {allow-input: true}\n",
        "if yaxis_type == \"Auto\":\n",
        "  yaxis_type = \"-\"\n",
        "\n",
        "title = \"Auto\" # @param [\"Auto\"] {allow-input: true}\n",
        "if title == \"Auto\":\n",
        "  title = f\"{selection_method.title()}: {selection}\"\n",
        "xaxis_title = \"Auto\" # @param [\"Auto\"] {allow-input: true}\n",
        "if xaxis_title == \"Auto\":\n",
        "  xaxis_title = \"Page\"\n",
        "yaxis_title = \"Auto\" # @param [\"Auto\"] {allow-input: true}\n",
        "if yaxis_title == \"Auto\":\n",
        "  yaxis_title = yaxis_var\n",
        "\n",
        "\n",
        "# Bar graph: article size vs language edition\n",
        "# Different versions of x axis labels\n",
        "plt = px.bar(\n",
        "    data.sort(yaxis_var, descending=True).to_pandas(),\n",
        "    x=\"selection_case\",\n",
        "    y=yaxis_var,\n",
        "    template=template,\n",
        "    color_discrete_sequence=px.colors.qualitative.Set2\n",
        ")\n",
        "\n",
        "plt.update_layout(\n",
        "    title=title,\n",
        "    xaxis_title=xaxis_title,\n",
        "    yaxis_title=yaxis_title,\n",
        "    # Rotate x-axis labels 45 degrees\n",
        "    xaxis_tickangle=-45,\n",
        "    yaxis_type=yaxis_type,\n",
        ")\n",
        "\n",
        "plt.show()"
      ],
      "metadata": {
        "colab": {
          "base_uri": "https://localhost:8080/",
          "height": 542
        },
        "id": "P0kslJN0C7A9",
        "outputId": "e7336ce9-7112-4b6d-fb4d-20af27c88712",
        "cellView": "form"
      },
      "execution_count": 12,
      "outputs": [
        {
          "output_type": "display_data",
          "data": {
            "text/html": [
              "<html>\n",
              "<head><meta charset=\"utf-8\" /></head>\n",
              "<body>\n",
              "    <div>            <script src=\"https://cdnjs.cloudflare.com/ajax/libs/mathjax/2.7.5/MathJax.js?config=TeX-AMS-MML_SVG\"></script><script type=\"text/javascript\">if (window.MathJax && window.MathJax.Hub && window.MathJax.Hub.Config) {window.MathJax.Hub.Config({SVG: {font: \"STIX-Web\"}});}</script>                <script type=\"text/javascript\">window.PlotlyConfig = {MathJaxConfig: 'local'};</script>\n",
              "        <script charset=\"utf-8\" src=\"https://cdn.plot.ly/plotly-2.20.0.min.js\"></script>                <div id=\"63d0a8d4-42b4-4bfb-8078-e2f54d77afc7\" class=\"plotly-graph-div\" style=\"height:525px; width:100%;\"></div>            <script type=\"text/javascript\">                                    window.PLOTLYENV=window.PLOTLYENV || {};                                    if (document.getElementById(\"63d0a8d4-42b4-4bfb-8078-e2f54d77afc7\")) {                    Plotly.newPlot(                        \"63d0a8d4-42b4-4bfb-8078-e2f54d77afc7\",                        [{\"alignmentgroup\":\"True\",\"hovertemplate\":\"selection_case=%{x}<br>length=%{y}<extra></extra>\",\"legendgroup\":\"\",\"marker\":{\"color\":\"rgb(102,194,165)\",\"pattern\":{\"shape\":\"\"}},\"name\":\"\",\"offsetgroup\":\"\",\"orientation\":\"v\",\"showlegend\":false,\"textposition\":\"auto\",\"x\":[\"Manuel Puig\",\"Anyda Marchant\",\"Vange Leonel\",\"Jo\\u00e3o Silv\\u00e9rio Trevisan\",\"L\\u00facio Cardoso\",\"Raul Pompeia\",\"Jo\\u00e3o Gilberto Noll\",\"Jo\\u00e3o W. Nery\",\"Aguinaldo Silva\",\"Cassandra Rios\"],\"xaxis\":\"x\",\"y\":[13708,12152,11737,8022,7806,5904,5192,5128,4407,2423],\"yaxis\":\"y\",\"type\":\"bar\"}],                        {\"template\":{\"data\":{\"barpolar\":[{\"marker\":{\"line\":{\"color\":\"white\",\"width\":0.5},\"pattern\":{\"fillmode\":\"overlay\",\"size\":10,\"solidity\":0.2}},\"type\":\"barpolar\"}],\"bar\":[{\"error_x\":{\"color\":\"#2a3f5f\"},\"error_y\":{\"color\":\"#2a3f5f\"},\"marker\":{\"line\":{\"color\":\"white\",\"width\":0.5},\"pattern\":{\"fillmode\":\"overlay\",\"size\":10,\"solidity\":0.2}},\"type\":\"bar\"}],\"carpet\":[{\"aaxis\":{\"endlinecolor\":\"#2a3f5f\",\"gridcolor\":\"#C8D4E3\",\"linecolor\":\"#C8D4E3\",\"minorgridcolor\":\"#C8D4E3\",\"startlinecolor\":\"#2a3f5f\"},\"baxis\":{\"endlinecolor\":\"#2a3f5f\",\"gridcolor\":\"#C8D4E3\",\"linecolor\":\"#C8D4E3\",\"minorgridcolor\":\"#C8D4E3\",\"startlinecolor\":\"#2a3f5f\"},\"type\":\"carpet\"}],\"choropleth\":[{\"colorbar\":{\"outlinewidth\":0,\"ticks\":\"\"},\"type\":\"choropleth\"}],\"contourcarpet\":[{\"colorbar\":{\"outlinewidth\":0,\"ticks\":\"\"},\"type\":\"contourcarpet\"}],\"contour\":[{\"colorbar\":{\"outlinewidth\":0,\"ticks\":\"\"},\"colorscale\":[[0.0,\"#0d0887\"],[0.1111111111111111,\"#46039f\"],[0.2222222222222222,\"#7201a8\"],[0.3333333333333333,\"#9c179e\"],[0.4444444444444444,\"#bd3786\"],[0.5555555555555556,\"#d8576b\"],[0.6666666666666666,\"#ed7953\"],[0.7777777777777778,\"#fb9f3a\"],[0.8888888888888888,\"#fdca26\"],[1.0,\"#f0f921\"]],\"type\":\"contour\"}],\"heatmapgl\":[{\"colorbar\":{\"outlinewidth\":0,\"ticks\":\"\"},\"colorscale\":[[0.0,\"#0d0887\"],[0.1111111111111111,\"#46039f\"],[0.2222222222222222,\"#7201a8\"],[0.3333333333333333,\"#9c179e\"],[0.4444444444444444,\"#bd3786\"],[0.5555555555555556,\"#d8576b\"],[0.6666666666666666,\"#ed7953\"],[0.7777777777777778,\"#fb9f3a\"],[0.8888888888888888,\"#fdca26\"],[1.0,\"#f0f921\"]],\"type\":\"heatmapgl\"}],\"heatmap\":[{\"colorbar\":{\"outlinewidth\":0,\"ticks\":\"\"},\"colorscale\":[[0.0,\"#0d0887\"],[0.1111111111111111,\"#46039f\"],[0.2222222222222222,\"#7201a8\"],[0.3333333333333333,\"#9c179e\"],[0.4444444444444444,\"#bd3786\"],[0.5555555555555556,\"#d8576b\"],[0.6666666666666666,\"#ed7953\"],[0.7777777777777778,\"#fb9f3a\"],[0.8888888888888888,\"#fdca26\"],[1.0,\"#f0f921\"]],\"type\":\"heatmap\"}],\"histogram2dcontour\":[{\"colorbar\":{\"outlinewidth\":0,\"ticks\":\"\"},\"colorscale\":[[0.0,\"#0d0887\"],[0.1111111111111111,\"#46039f\"],[0.2222222222222222,\"#7201a8\"],[0.3333333333333333,\"#9c179e\"],[0.4444444444444444,\"#bd3786\"],[0.5555555555555556,\"#d8576b\"],[0.6666666666666666,\"#ed7953\"],[0.7777777777777778,\"#fb9f3a\"],[0.8888888888888888,\"#fdca26\"],[1.0,\"#f0f921\"]],\"type\":\"histogram2dcontour\"}],\"histogram2d\":[{\"colorbar\":{\"outlinewidth\":0,\"ticks\":\"\"},\"colorscale\":[[0.0,\"#0d0887\"],[0.1111111111111111,\"#46039f\"],[0.2222222222222222,\"#7201a8\"],[0.3333333333333333,\"#9c179e\"],[0.4444444444444444,\"#bd3786\"],[0.5555555555555556,\"#d8576b\"],[0.6666666666666666,\"#ed7953\"],[0.7777777777777778,\"#fb9f3a\"],[0.8888888888888888,\"#fdca26\"],[1.0,\"#f0f921\"]],\"type\":\"histogram2d\"}],\"histogram\":[{\"marker\":{\"pattern\":{\"fillmode\":\"overlay\",\"size\":10,\"solidity\":0.2}},\"type\":\"histogram\"}],\"mesh3d\":[{\"colorbar\":{\"outlinewidth\":0,\"ticks\":\"\"},\"type\":\"mesh3d\"}],\"parcoords\":[{\"line\":{\"colorbar\":{\"outlinewidth\":0,\"ticks\":\"\"}},\"type\":\"parcoords\"}],\"pie\":[{\"automargin\":true,\"type\":\"pie\"}],\"scatter3d\":[{\"line\":{\"colorbar\":{\"outlinewidth\":0,\"ticks\":\"\"}},\"marker\":{\"colorbar\":{\"outlinewidth\":0,\"ticks\":\"\"}},\"type\":\"scatter3d\"}],\"scattercarpet\":[{\"marker\":{\"colorbar\":{\"outlinewidth\":0,\"ticks\":\"\"}},\"type\":\"scattercarpet\"}],\"scattergeo\":[{\"marker\":{\"colorbar\":{\"outlinewidth\":0,\"ticks\":\"\"}},\"type\":\"scattergeo\"}],\"scattergl\":[{\"marker\":{\"colorbar\":{\"outlinewidth\":0,\"ticks\":\"\"}},\"type\":\"scattergl\"}],\"scattermapbox\":[{\"marker\":{\"colorbar\":{\"outlinewidth\":0,\"ticks\":\"\"}},\"type\":\"scattermapbox\"}],\"scatterpolargl\":[{\"marker\":{\"colorbar\":{\"outlinewidth\":0,\"ticks\":\"\"}},\"type\":\"scatterpolargl\"}],\"scatterpolar\":[{\"marker\":{\"colorbar\":{\"outlinewidth\":0,\"ticks\":\"\"}},\"type\":\"scatterpolar\"}],\"scatter\":[{\"fillpattern\":{\"fillmode\":\"overlay\",\"size\":10,\"solidity\":0.2},\"type\":\"scatter\"}],\"scatterternary\":[{\"marker\":{\"colorbar\":{\"outlinewidth\":0,\"ticks\":\"\"}},\"type\":\"scatterternary\"}],\"surface\":[{\"colorbar\":{\"outlinewidth\":0,\"ticks\":\"\"},\"colorscale\":[[0.0,\"#0d0887\"],[0.1111111111111111,\"#46039f\"],[0.2222222222222222,\"#7201a8\"],[0.3333333333333333,\"#9c179e\"],[0.4444444444444444,\"#bd3786\"],[0.5555555555555556,\"#d8576b\"],[0.6666666666666666,\"#ed7953\"],[0.7777777777777778,\"#fb9f3a\"],[0.8888888888888888,\"#fdca26\"],[1.0,\"#f0f921\"]],\"type\":\"surface\"}],\"table\":[{\"cells\":{\"fill\":{\"color\":\"#EBF0F8\"},\"line\":{\"color\":\"white\"}},\"header\":{\"fill\":{\"color\":\"#C8D4E3\"},\"line\":{\"color\":\"white\"}},\"type\":\"table\"}]},\"layout\":{\"annotationdefaults\":{\"arrowcolor\":\"#2a3f5f\",\"arrowhead\":0,\"arrowwidth\":1},\"autotypenumbers\":\"strict\",\"coloraxis\":{\"colorbar\":{\"outlinewidth\":0,\"ticks\":\"\"}},\"colorscale\":{\"diverging\":[[0,\"#8e0152\"],[0.1,\"#c51b7d\"],[0.2,\"#de77ae\"],[0.3,\"#f1b6da\"],[0.4,\"#fde0ef\"],[0.5,\"#f7f7f7\"],[0.6,\"#e6f5d0\"],[0.7,\"#b8e186\"],[0.8,\"#7fbc41\"],[0.9,\"#4d9221\"],[1,\"#276419\"]],\"sequential\":[[0.0,\"#0d0887\"],[0.1111111111111111,\"#46039f\"],[0.2222222222222222,\"#7201a8\"],[0.3333333333333333,\"#9c179e\"],[0.4444444444444444,\"#bd3786\"],[0.5555555555555556,\"#d8576b\"],[0.6666666666666666,\"#ed7953\"],[0.7777777777777778,\"#fb9f3a\"],[0.8888888888888888,\"#fdca26\"],[1.0,\"#f0f921\"]],\"sequentialminus\":[[0.0,\"#0d0887\"],[0.1111111111111111,\"#46039f\"],[0.2222222222222222,\"#7201a8\"],[0.3333333333333333,\"#9c179e\"],[0.4444444444444444,\"#bd3786\"],[0.5555555555555556,\"#d8576b\"],[0.6666666666666666,\"#ed7953\"],[0.7777777777777778,\"#fb9f3a\"],[0.8888888888888888,\"#fdca26\"],[1.0,\"#f0f921\"]]},\"colorway\":[\"#636efa\",\"#EF553B\",\"#00cc96\",\"#ab63fa\",\"#FFA15A\",\"#19d3f3\",\"#FF6692\",\"#B6E880\",\"#FF97FF\",\"#FECB52\"],\"font\":{\"color\":\"#2a3f5f\"},\"geo\":{\"bgcolor\":\"white\",\"lakecolor\":\"white\",\"landcolor\":\"white\",\"showlakes\":true,\"showland\":true,\"subunitcolor\":\"#C8D4E3\"},\"hoverlabel\":{\"align\":\"left\"},\"hovermode\":\"closest\",\"mapbox\":{\"style\":\"light\"},\"paper_bgcolor\":\"white\",\"plot_bgcolor\":\"white\",\"polar\":{\"angularaxis\":{\"gridcolor\":\"#EBF0F8\",\"linecolor\":\"#EBF0F8\",\"ticks\":\"\"},\"bgcolor\":\"white\",\"radialaxis\":{\"gridcolor\":\"#EBF0F8\",\"linecolor\":\"#EBF0F8\",\"ticks\":\"\"}},\"scene\":{\"xaxis\":{\"backgroundcolor\":\"white\",\"gridcolor\":\"#DFE8F3\",\"gridwidth\":2,\"linecolor\":\"#EBF0F8\",\"showbackground\":true,\"ticks\":\"\",\"zerolinecolor\":\"#EBF0F8\"},\"yaxis\":{\"backgroundcolor\":\"white\",\"gridcolor\":\"#DFE8F3\",\"gridwidth\":2,\"linecolor\":\"#EBF0F8\",\"showbackground\":true,\"ticks\":\"\",\"zerolinecolor\":\"#EBF0F8\"},\"zaxis\":{\"backgroundcolor\":\"white\",\"gridcolor\":\"#DFE8F3\",\"gridwidth\":2,\"linecolor\":\"#EBF0F8\",\"showbackground\":true,\"ticks\":\"\",\"zerolinecolor\":\"#EBF0F8\"}},\"shapedefaults\":{\"line\":{\"color\":\"#2a3f5f\"}},\"ternary\":{\"aaxis\":{\"gridcolor\":\"#DFE8F3\",\"linecolor\":\"#A2B1C6\",\"ticks\":\"\"},\"baxis\":{\"gridcolor\":\"#DFE8F3\",\"linecolor\":\"#A2B1C6\",\"ticks\":\"\"},\"bgcolor\":\"white\",\"caxis\":{\"gridcolor\":\"#DFE8F3\",\"linecolor\":\"#A2B1C6\",\"ticks\":\"\"}},\"title\":{\"x\":0.05},\"xaxis\":{\"automargin\":true,\"gridcolor\":\"#EBF0F8\",\"linecolor\":\"#EBF0F8\",\"ticks\":\"\",\"title\":{\"standoff\":15},\"zerolinecolor\":\"#EBF0F8\",\"zerolinewidth\":2},\"yaxis\":{\"automargin\":true,\"gridcolor\":\"#EBF0F8\",\"linecolor\":\"#EBF0F8\",\"ticks\":\"\",\"title\":{\"standoff\":15},\"zerolinecolor\":\"#EBF0F8\",\"zerolinewidth\":2}}},\"xaxis\":{\"anchor\":\"y\",\"domain\":[0.0,1.0],\"title\":{\"text\":\"Page\"},\"tickangle\":-45},\"yaxis\":{\"anchor\":\"x\",\"domain\":[0.0,1.0],\"title\":{\"text\":\"length\"},\"type\":\"-\"},\"legend\":{\"tracegroupgap\":0},\"margin\":{\"t\":60},\"barmode\":\"relative\",\"title\":{\"text\":\"Category: Brazilian LGBT novelists\"}},                        {\"responsive\": true}                    ).then(function(){\n",
              "                            \n",
              "var gd = document.getElementById('63d0a8d4-42b4-4bfb-8078-e2f54d77afc7');\n",
              "var x = new MutationObserver(function (mutations, observer) {{\n",
              "        var display = window.getComputedStyle(gd).display;\n",
              "        if (!display || display === 'none') {{\n",
              "            console.log([gd, 'removed!']);\n",
              "            Plotly.purge(gd);\n",
              "            observer.disconnect();\n",
              "        }}\n",
              "}});\n",
              "\n",
              "// Listen for the removal of the full notebook cells\n",
              "var notebookContainer = gd.closest('#notebook-container');\n",
              "if (notebookContainer) {{\n",
              "    x.observe(notebookContainer, {childList: true});\n",
              "}}\n",
              "\n",
              "// Listen for the clearing of the current output cell\n",
              "var outputEl = gd.closest('.output');\n",
              "if (outputEl) {{\n",
              "    x.observe(outputEl, {childList: true});\n",
              "}}\n",
              "\n",
              "                        })                };                            </script>        </div>\n",
              "</body>\n",
              "</html>"
            ]
          },
          "metadata": {}
        }
      ]
    },
    {
      "cell_type": "code",
      "source": [],
      "metadata": {
        "id": "bvjvgHxfCNq3"
      },
      "execution_count": null,
      "outputs": []
    },
    {
      "cell_type": "code",
      "source": [
        "# @title Regression plot\n",
        "\n",
        "template = \"plotly_white\"\n",
        "xaxis_var = \"length\"  # @param [\"length\", \"n_contributors\", \"n_revisions\", \"n_extlinks\", \"n_langlinks\", \"n_links\", \"n_linkshere\", \"n_categories\", \"pageviews_60d\", \"first_revision\"] {allow-input: true}\n",
        "yaxis_var = \"n_links\"  # @param [\"length\", \"n_contributors\", \"n_revisions\", \"n_extlinks\", \"n_langlinks\", \"n_links\", \"n_linkshere\", \"n_categories\", \"pageviews_60d\", \"first_revision\"] {allow-input: true}\n",
        "\n",
        "title = \"Auto\"  # @param [\"Auto\"] {allow-input: true}\n",
        "if title == \"Auto\":\n",
        "    title = f\"{selection_method.title()}: {selection}\"\n",
        "xaxis_title = \"Auto\"  # @param [\"Auto\"] {allow-input: true}\n",
        "if xaxis_title == \"Auto\":\n",
        "    xaxis_title = xaxis_var\n",
        "yaxis_title = \"Auto\"  # @param [\"Auto\"] {allow-input: true}\n",
        "if yaxis_title == \"Auto\":\n",
        "    yaxis_title = yaxis_var\n",
        "\n",
        "\n",
        "# Bar graph: article size vs language edition\n",
        "# Different versions of x axis labels\n",
        "plt = px.scatter(\n",
        "    data.to_pandas(),\n",
        "    x=xaxis_var,\n",
        "    y=yaxis_var,\n",
        "    template=template,\n",
        "    color_discrete_sequence=px.colors.qualitative.Set2,\n",
        "    # Add regression line\n",
        "    trendline=\"ols\",\n",
        "    hover_name=\"selection_case\",\n",
        ")\n",
        "\n",
        "plt.update_layout(\n",
        "    title=title,\n",
        "    xaxis_title=xaxis_title,\n",
        "    yaxis_title=yaxis_title,\n",
        ")\n",
        "\n",
        "plt.show()\n"
      ],
      "metadata": {
        "colab": {
          "base_uri": "https://localhost:8080/",
          "height": 542
        },
        "cellView": "form",
        "id": "9f8jT4ObBrJx",
        "outputId": "f1ac8b0f-9a2a-4faa-aa6c-d24a8247a5d0"
      },
      "execution_count": 20,
      "outputs": [
        {
          "output_type": "display_data",
          "data": {
            "text/html": [
              "<html>\n",
              "<head><meta charset=\"utf-8\" /></head>\n",
              "<body>\n",
              "    <div>            <script src=\"https://cdnjs.cloudflare.com/ajax/libs/mathjax/2.7.5/MathJax.js?config=TeX-AMS-MML_SVG\"></script><script type=\"text/javascript\">if (window.MathJax && window.MathJax.Hub && window.MathJax.Hub.Config) {window.MathJax.Hub.Config({SVG: {font: \"STIX-Web\"}});}</script>                <script type=\"text/javascript\">window.PlotlyConfig = {MathJaxConfig: 'local'};</script>\n",
              "        <script charset=\"utf-8\" src=\"https://cdn.plot.ly/plotly-2.20.0.min.js\"></script>                <div id=\"fa462f62-0a32-4197-804a-61365c6ce954\" class=\"plotly-graph-div\" style=\"height:525px; width:100%;\"></div>            <script type=\"text/javascript\">                                    window.PLOTLYENV=window.PLOTLYENV || {};                                    if (document.getElementById(\"fa462f62-0a32-4197-804a-61365c6ce954\")) {                    Plotly.newPlot(                        \"fa462f62-0a32-4197-804a-61365c6ce954\",                        [{\"hovertemplate\":\"<b>%{hovertext}</b><br><br>length=%{x}<br>n_links=%{y}<extra></extra>\",\"hovertext\":[\"af:Elfriede Jelinek\",\"als:Elfriede Jelinek\",\"alt:\\u0415\\u043b\\u0438\\u043d\\u0435\\u043a, \\u042d\\u043b\\u044c\\u0444\\u0440\\u0438\\u0434\\u0430\",\"an:Elfriede Jelinek\",\"ar:\\u0625\\u0644\\u0641\\u0631\\u064a\\u062f\\u064a \\u064a\\u0644\\u064a\\u0646\\u064a\\u0643\",\"arz:\\u0627\\u0644\\u0641\\u0631\\u064a\\u062f\\u0649 \\u064a\\u0644\\u064a\\u0646\\u064a\\u0643\",\"ast:Elfriede Jelinek\",\"avk:Elfriede Jelinek\",\"az:Elfrida Yelinek\",\"azb:\\u0627\\u0644\\u0641\\u0631\\u06cc\\u062f\\u0647 \\u06cc\\u0644\\u06cc\\u0646\\u06a9\",\"ba:\\u042d\\u043b\\u044c\\u0444\\u0440\\u0438\\u0434\\u0430 \\u0415\\u043b\\u0438\\u043d\\u0435\\u043a\",\"be:\\u042d\\u043b\\u044c\\u0444\\u0440\\u044b\\u0434\\u044d \\u0415\\u043b\\u0456\\u043d\\u0435\\u043a\",\"be-tarask:\\u042d\\u043b\\u044c\\u0444\\u0440\\u044b\\u0434\\u044d \\u0415\\u043b\\u0456\\u043d\\u044d\\u043a\",\"bg:\\u0415\\u043b\\u0444\\u0440\\u0438\\u0434\\u0435 \\u0419\\u0435\\u043b\\u0438\\u043d\\u0435\\u043a\",\"bn:\\u098f\\u09b2\\u09ab\\u09cd\\u09b0\\u09bf\\u09a1\\u09c7 \\u0987\\u09af\\u09bc\\u09c7\\u09b2\\u09bf\\u09a8\\u09c7\\u0995\",\"br:Elfriede Jelinek\",\"bs:Elfriede Jelinek\",\"ca:Elfriede Jelinek\",\"ckb:\\u0626\\u06ce\\u0644\\u0641\\u0631\\u06ce\\u062f\\u06d5 \\u0626\\u06cc\\u0644\\u06cc\\u0646\\u06ce\\u06a9\",\"cs:Elfriede Jelinekov\\u00e1\",\"cy:Elfriede Jelinek\",\"da:Elfriede Jelinek\",\"de:Elfriede Jelinek\",\"dty:\\u0905\\u0932\\u094d\\u092b\\u094d\\u0930\\u093e\\u0907\\u0921 \\u091c\\u0947\\u0932\\u093f\\u0928\\u0947\\u0915\",\"el:\\u0395\\u03bb\\u03c6\\u03c1\\u03af\\u03bd\\u03c4\\u03b5 \\u0393\\u03ad\\u03bb\\u03b9\\u03bd\\u03b5\\u03ba\",\"eo:Elfriede Jelinek\",\"es:Elfriede Jelinek\",\"et:Elfriede Jelinek\",\"eu:Elfriede Jelinek\",\"fa:\\u0627\\u0644\\u0641\\u0631\\u06cc\\u062f\\u0647 \\u06cc\\u0644\\u06cc\\u0646\\u06a9\",\"fi:Elfriede Jelinek\",\"fr:Elfriede Jelinek\",\"ga:Elfriede Jelinek\",\"gd:Elfriede Jelinek\",\"gl:Elfriede Jelinek\",\"ha:Elfriede Jelinek\",\"hak:Elfriede Jelinek\",\"he:\\u05d0\\u05dc\\u05e4\\u05e8\\u05d9\\u05d3\\u05d4 \\u05d9\\u05dc\\u05d9\\u05e0\\u05e7\",\"hi:\\u090f\\u0932\\u094d\\u092b\\u094d\\u0930\\u0940\\u0921\\u0947 \\u092f\\u0947\\u0932\\u093f\\u0928\\u0947\\u0915\",\"hr:Elfriede Jelinek\",\"hu:Elfriede Jelinek\",\"hy:\\u0537\\u056c\\u0586\\u0580\\u056b\\u0564\\u0565 \\u0535\\u056c\\u056b\\u0576\\u0565\\u056f\",\"ia:Elfriede Jelinek\",\"id:Elfriede Jelinek\",\"ilo:Elfriede Jelinek\",\"io:Elfriede Jelinek\",\"is:Elfriede Jelinek\",\"it:Elfriede Jelinek\",\"ja:\\u30a8\\u30eb\\u30d5\\u30ea\\u30fc\\u30c7\\u30fb\\u30a4\\u30a7\\u30ea\\u30cd\\u30af\",\"jv:Elfriede Jelinek\",\"ka:\\u10d4\\u10da\\u10e4\\u10e0\\u10d8\\u10d3\\u10d4 \\u10d8\\u10d4\\u10da\\u10d8\\u10dc\\u10d4\\u10d9\\u10d8\",\"ko:\\uc5d8\\ud504\\ub9ac\\ub370 \\uc610\\ub9ac\\ub124\\ud06c\",\"ku:Elfriede Jelinek\",\"la:Elfrieda Jelinek\",\"lt:Elfriede Jelinek\",\"lv:Elfr\\u012bde Jelineka\",\"mai:\\u090f\\u0932\\u092b\\u094d\\u0930\\u093f\\u0921 \\u091c\\u0947\\u0932\\u0940\\u0928\\u0947\\u0915\",\"mk:\\u0415\\u043b\\u0444\\u0440\\u0438\\u0434\\u0435 \\u0408\\u0435\\u043b\\u0438\\u043d\\u0435\\u043a\",\"ml:\\u0d0e\\u0d7d\\u0d2b\\u0d4d\\u0d30\\u0d40\\u0d21 \\u0d2f\\u0d46\\u0d32\\u0d3f\\u0d28\\u0d46\\u0d15\\u0d4d\",\"mrj:\\u0415\\u043b\\u0438\\u043d\\u0435\\u043a, \\u042d\\u043b\\u044c\\u0444\\u0440\\u0438\\u0434\\u0430\",\"ms:Elfriede Jelinek\",\"my:\\u1021\\u1031\\u1016\\u101b\\u102e\\u1012\\u102b \\u101b\\u101a\\u103a\\u101c\\u102e\\u1014\\u1000\\u103a\\u1001\\u103a\",\"mzn:\\u0627\\u0644\\u0641\\u0631\\u06cc\\u062f\\u0647 \\u06cc\\u0644\\u06cc\\u0646\\u06a9\",\"nah:Elfriede Jelinek\",\"nds:Elfriede Jelinek\",\"ne:\\u0905\\u0932\\u094d\\u092b\\u094d\\u0930\\u093e\\u0907\\u0921 \\u091c\\u0947\\u0932\\u093f\\u0928\\u0947\\u0915\",\"nl:Elfriede Jelinek\",\"nn:Elfriede Jelinek\",\"no:Elfriede Jelinek\",\"oc:Elfriede Jelinek\",\"pa:\\u0a10\\u0a32\\u0a2b\\u0a30\\u0a40\\u0a21 \\u0a1c\\u0a47\\u0a32\\u0a40\\u0a28\\u0a47\\u0a15\",\"pl:Elfriede Jelinek\",\"pms:Elfriede Jelinek\",\"pnb:\\u0627\\u06cc\\u0644\\u0641\\u0631\\u06cc\\u0688 \\u062c\\u06cc\\u0644\\u06cc\\u0646\\u06a9\",\"pt:Elfriede Jelinek\",\"ro:Elfriede Jelinek\",\"ru:\\u0415\\u043b\\u0438\\u043d\\u0435\\u043a, \\u042d\\u043b\\u044c\\u0444\\u0440\\u0438\\u0434\\u0430\",\"sh:Elfriede Jelinek\",\"simple:Elfriede Jelinek\",\"sk:Elfriede Jelinekov\\u00e1\",\"sl:Elfriede Jelinek\",\"sq:Elfriede Jelinek\",\"sr:\\u0415\\u043b\\u0444\\u0440\\u0438\\u0434\\u0435 \\u0408\\u0435\\u043b\\u0438\\u043d\\u0435\\u043a\",\"sv:Elfriede Jelinek\",\"sw:Elfriede Jelinek\",\"ta:\\u0b8e\\u0bb2\\u0bcd\\u0b83\\u0baa\\u0bbf\\u0bb0\\u0bc6\\u0b9f\\u0bcd \\u0b8e\\u0bb2\\u0bbf\\u0ba9\\u0bc6\\u0b95\\u0bcd\",\"te:\\u0c0e\\u0c32\\u0c4d\\u0c2b\\u0c4d\\u0c30\\u0c3f\\u0c26\\u0c4d \\u0c1c\\u0c46\\u0c32\\u0c3f\\u0c28\\u0c46\\u0c15\\u0c4d\",\"tg:\\u042d\\u043b\\u0444\\u0440\\u0438\\u0434\\u0430 \\u04b6\\u0435\\u043b\\u0438\\u043d\\u0435\\u043a\",\"th:\\u0e40\\u0e2d\\u0e47\\u0e25\\u0e1f\\u0e23\\u0e35\\u0e40\\u0e14\\u0e2d \\u0e40\\u0e22\\u0e47\\u0e25\\u0e25\\u0e35\\u0e40\\u0e19\\u0e47\\u0e04\",\"tr:Elfriede Jelinek\",\"tt:\\u042d\\u043b\\u0444\\u0440\\u0438\\u0434\\u0430 \\u0415\\u043b\\u0438\\u043d\\u0435\\u043a\",\"tyv:\\u0415\\u043b\\u0438\\u043d\\u0435\\u043a, \\u042d\\u043b\\u044c\\u0444\\u0440\\u0438\\u0434\\u0430\",\"uk:\\u0415\\u043b\\u044c\\u0444\\u0440\\u0456\\u0434\\u0435 \\u0404\\u043b\\u0456\\u043d\\u0435\\u043a\",\"ur:\\u0627\\u0644\\u0641\\u0631\\u0688 \\u062c\\u06cc\\u0644\\u0646\\u06a9\",\"uz:Elfriede Jelinek\",\"vi:Elfriede Jelinek\",\"wuu:\\u827e\\u5c14\\u5f17\\u96f7\\u5fb7\\u00b7\\u8036\\u5229\\u5185\\u514b\",\"yo:Elfriede Jelinek\",\"zh:\\u827e\\u5c14\\u5f17\\u96f7\\u5fb7\\u00b7\\u8036\\u5229\\u5185\\u514b\",\"zh-min-nan:Elfriede Jelinek\",\"zh-yue:\\u8036\\u5229\\u5167\\u514b\"],\"legendgroup\":\"\",\"marker\":{\"color\":\"rgb(102,194,165)\",\"symbol\":\"circle\"},\"mode\":\"markers\",\"name\":\"\",\"orientation\":\"v\",\"showlegend\":false,\"x\":[3080,20961,16866,1446,7271,1178,13490,1567,8275,2455,14937,4792,3787,17862,7144,8254,36781,10184,4021,35618,4972,3018,68392,13814,14711,6164,16163,3096,2600,10396,5631,53878,644,1680,11527,536,368,10037,6828,2643,8316,20645,465,4049,1391,871,1706,104382,8405,3190,19412,3542,2416,1871,4152,3531,3310,7666,8490,994,4132,12789,1097,185,2148,14067,5911,3844,12915,983,3297,10953,906,862,3986,5930,25288,2940,1010,2072,11978,4101,5454,43126,497,17104,19233,1407,3711,12752,457,10940,11694,2530,31089,9689,258,1189,8836,4028,280],\"xaxis\":\"x\",\"y\":[184,17,77,16,421,27,142,128,80,67,75,187,90,142,67,51,707,229,19,247,46,169,436,11,105,103,133,147,259,333,182,454,21,188,238,43,230,257,143,135,106,189,15,216,170,127,132,736,175,171,250,203,133,27,149,150,13,186,32,43,175,2,41,3,138,11,179,139,91,128,13,202,18,4,82,146,176,161,135,59,287,11,172,330,6,142,56,61,128,60,18,46,228,147,155,155,1,133,254,164,134],\"yaxis\":\"y\",\"type\":\"scatter\"},{\"hovertemplate\":\"<b>OLS trendline</b><br>n_links = 0.00587773 * length + 85.6513<br>R<sup>2</sup>=0.463628<br><br>length=%{x}<br>n_links=%{y} <b>(trend)</b><extra></extra>\",\"legendgroup\":\"\",\"marker\":{\"color\":\"rgb(102,194,165)\",\"symbol\":\"circle\"},\"mode\":\"lines\",\"name\":\"\",\"showlegend\":false,\"x\":[185,258,280,368,457,465,497,536,644,862,871,906,983,994,1010,1097,1178,1189,1391,1407,1446,1567,1680,1706,1871,2072,2148,2416,2455,2530,2600,2643,2940,3018,3080,3096,3190,3297,3310,3531,3542,3711,3787,3844,3986,4021,4028,4049,4101,4132,4152,4792,4972,5454,5631,5911,5930,6164,6828,7144,7271,7666,8254,8275,8316,8405,8490,8836,9689,10037,10184,10396,10940,10953,11527,11694,11978,12752,12789,12915,13490,13814,14067,14711,14937,16163,16866,17104,17862,19233,19412,20645,20961,25288,31089,35618,36781,43126,53878,68392,104382],\"xaxis\":\"x\",\"y\":[86.73869434894733,87.16776833790642,87.29707830718176,87.81431818428312,88.33743578726063,88.38445759426985,88.57254482230671,88.80177613147663,89.43657052610104,90.71791476710214,90.7708142999875,90.97653470565282,91.42911959811651,91.49377458275418,91.58781819677262,92.09918034799783,92.57527614396614,92.6399311286038,93.82723175558648,93.92127536960491,94.15050667877483,94.8617115097892,95.52589453379437,95.67871540657431,96.64854017613938,97.82996307724589,98.27667024383344,99.85190077864213,100.08113208781207,100.52196152852345,100.93340233985408,101.18614455252862,102.93182913774572,103.39029175608556,103.75471076040698,103.8487543744254,104.40126060678368,105.03017727553193,105.1065877119219,106.40556513055147,106.47022011518914,107.4635557882588,107.91026295484635,108.245293329787,109.07993040420057,109.28565080986587,109.32679489099894,109.45022713439813,109.75586887995803,109.93807838211873,110.05563289964178,113.81737746037896,114.8753681180863,117.70843199039149,118.74878947047037,120.3945527157929,120.50622950743978,121.88161736245932,125.78442734422416,127.64178872108815,128.38825990735944,130.70996162843943,134.1660644436167,134.2894966870159,134.53048344793814,135.05360105091563,135.55320775038854,137.5869009035371,142.60060107589464,144.6460496807955,145.5100753845898,146.756153270334,149.9536361469606,150.0300465833506,153.40386123626178,154.38544145757913,156.05471560640626,160.60407543454778,160.82155129196542,161.56214475236055,164.94183713114785,166.84622031502107,168.3332849616875,172.1185404259293,173.44690647393963,180.6529983981018,184.78503968903658,186.1839384475607,190.63925466168382,198.697616837888,199.7497297697192,206.99696577501444,208.85432715187844,234.28724701798754,268.38393482554454,295.0041553186363,301.8399505126009,339.13412119678446,402.3314298171693,487.6407431836375,699.180097466343],\"yaxis\":\"y\",\"type\":\"scatter\"}],                        {\"template\":{\"data\":{\"barpolar\":[{\"marker\":{\"line\":{\"color\":\"white\",\"width\":0.5},\"pattern\":{\"fillmode\":\"overlay\",\"size\":10,\"solidity\":0.2}},\"type\":\"barpolar\"}],\"bar\":[{\"error_x\":{\"color\":\"#2a3f5f\"},\"error_y\":{\"color\":\"#2a3f5f\"},\"marker\":{\"line\":{\"color\":\"white\",\"width\":0.5},\"pattern\":{\"fillmode\":\"overlay\",\"size\":10,\"solidity\":0.2}},\"type\":\"bar\"}],\"carpet\":[{\"aaxis\":{\"endlinecolor\":\"#2a3f5f\",\"gridcolor\":\"#C8D4E3\",\"linecolor\":\"#C8D4E3\",\"minorgridcolor\":\"#C8D4E3\",\"startlinecolor\":\"#2a3f5f\"},\"baxis\":{\"endlinecolor\":\"#2a3f5f\",\"gridcolor\":\"#C8D4E3\",\"linecolor\":\"#C8D4E3\",\"minorgridcolor\":\"#C8D4E3\",\"startlinecolor\":\"#2a3f5f\"},\"type\":\"carpet\"}],\"choropleth\":[{\"colorbar\":{\"outlinewidth\":0,\"ticks\":\"\"},\"type\":\"choropleth\"}],\"contourcarpet\":[{\"colorbar\":{\"outlinewidth\":0,\"ticks\":\"\"},\"type\":\"contourcarpet\"}],\"contour\":[{\"colorbar\":{\"outlinewidth\":0,\"ticks\":\"\"},\"colorscale\":[[0.0,\"#0d0887\"],[0.1111111111111111,\"#46039f\"],[0.2222222222222222,\"#7201a8\"],[0.3333333333333333,\"#9c179e\"],[0.4444444444444444,\"#bd3786\"],[0.5555555555555556,\"#d8576b\"],[0.6666666666666666,\"#ed7953\"],[0.7777777777777778,\"#fb9f3a\"],[0.8888888888888888,\"#fdca26\"],[1.0,\"#f0f921\"]],\"type\":\"contour\"}],\"heatmapgl\":[{\"colorbar\":{\"outlinewidth\":0,\"ticks\":\"\"},\"colorscale\":[[0.0,\"#0d0887\"],[0.1111111111111111,\"#46039f\"],[0.2222222222222222,\"#7201a8\"],[0.3333333333333333,\"#9c179e\"],[0.4444444444444444,\"#bd3786\"],[0.5555555555555556,\"#d8576b\"],[0.6666666666666666,\"#ed7953\"],[0.7777777777777778,\"#fb9f3a\"],[0.8888888888888888,\"#fdca26\"],[1.0,\"#f0f921\"]],\"type\":\"heatmapgl\"}],\"heatmap\":[{\"colorbar\":{\"outlinewidth\":0,\"ticks\":\"\"},\"colorscale\":[[0.0,\"#0d0887\"],[0.1111111111111111,\"#46039f\"],[0.2222222222222222,\"#7201a8\"],[0.3333333333333333,\"#9c179e\"],[0.4444444444444444,\"#bd3786\"],[0.5555555555555556,\"#d8576b\"],[0.6666666666666666,\"#ed7953\"],[0.7777777777777778,\"#fb9f3a\"],[0.8888888888888888,\"#fdca26\"],[1.0,\"#f0f921\"]],\"type\":\"heatmap\"}],\"histogram2dcontour\":[{\"colorbar\":{\"outlinewidth\":0,\"ticks\":\"\"},\"colorscale\":[[0.0,\"#0d0887\"],[0.1111111111111111,\"#46039f\"],[0.2222222222222222,\"#7201a8\"],[0.3333333333333333,\"#9c179e\"],[0.4444444444444444,\"#bd3786\"],[0.5555555555555556,\"#d8576b\"],[0.6666666666666666,\"#ed7953\"],[0.7777777777777778,\"#fb9f3a\"],[0.8888888888888888,\"#fdca26\"],[1.0,\"#f0f921\"]],\"type\":\"histogram2dcontour\"}],\"histogram2d\":[{\"colorbar\":{\"outlinewidth\":0,\"ticks\":\"\"},\"colorscale\":[[0.0,\"#0d0887\"],[0.1111111111111111,\"#46039f\"],[0.2222222222222222,\"#7201a8\"],[0.3333333333333333,\"#9c179e\"],[0.4444444444444444,\"#bd3786\"],[0.5555555555555556,\"#d8576b\"],[0.6666666666666666,\"#ed7953\"],[0.7777777777777778,\"#fb9f3a\"],[0.8888888888888888,\"#fdca26\"],[1.0,\"#f0f921\"]],\"type\":\"histogram2d\"}],\"histogram\":[{\"marker\":{\"pattern\":{\"fillmode\":\"overlay\",\"size\":10,\"solidity\":0.2}},\"type\":\"histogram\"}],\"mesh3d\":[{\"colorbar\":{\"outlinewidth\":0,\"ticks\":\"\"},\"type\":\"mesh3d\"}],\"parcoords\":[{\"line\":{\"colorbar\":{\"outlinewidth\":0,\"ticks\":\"\"}},\"type\":\"parcoords\"}],\"pie\":[{\"automargin\":true,\"type\":\"pie\"}],\"scatter3d\":[{\"line\":{\"colorbar\":{\"outlinewidth\":0,\"ticks\":\"\"}},\"marker\":{\"colorbar\":{\"outlinewidth\":0,\"ticks\":\"\"}},\"type\":\"scatter3d\"}],\"scattercarpet\":[{\"marker\":{\"colorbar\":{\"outlinewidth\":0,\"ticks\":\"\"}},\"type\":\"scattercarpet\"}],\"scattergeo\":[{\"marker\":{\"colorbar\":{\"outlinewidth\":0,\"ticks\":\"\"}},\"type\":\"scattergeo\"}],\"scattergl\":[{\"marker\":{\"colorbar\":{\"outlinewidth\":0,\"ticks\":\"\"}},\"type\":\"scattergl\"}],\"scattermapbox\":[{\"marker\":{\"colorbar\":{\"outlinewidth\":0,\"ticks\":\"\"}},\"type\":\"scattermapbox\"}],\"scatterpolargl\":[{\"marker\":{\"colorbar\":{\"outlinewidth\":0,\"ticks\":\"\"}},\"type\":\"scatterpolargl\"}],\"scatterpolar\":[{\"marker\":{\"colorbar\":{\"outlinewidth\":0,\"ticks\":\"\"}},\"type\":\"scatterpolar\"}],\"scatter\":[{\"fillpattern\":{\"fillmode\":\"overlay\",\"size\":10,\"solidity\":0.2},\"type\":\"scatter\"}],\"scatterternary\":[{\"marker\":{\"colorbar\":{\"outlinewidth\":0,\"ticks\":\"\"}},\"type\":\"scatterternary\"}],\"surface\":[{\"colorbar\":{\"outlinewidth\":0,\"ticks\":\"\"},\"colorscale\":[[0.0,\"#0d0887\"],[0.1111111111111111,\"#46039f\"],[0.2222222222222222,\"#7201a8\"],[0.3333333333333333,\"#9c179e\"],[0.4444444444444444,\"#bd3786\"],[0.5555555555555556,\"#d8576b\"],[0.6666666666666666,\"#ed7953\"],[0.7777777777777778,\"#fb9f3a\"],[0.8888888888888888,\"#fdca26\"],[1.0,\"#f0f921\"]],\"type\":\"surface\"}],\"table\":[{\"cells\":{\"fill\":{\"color\":\"#EBF0F8\"},\"line\":{\"color\":\"white\"}},\"header\":{\"fill\":{\"color\":\"#C8D4E3\"},\"line\":{\"color\":\"white\"}},\"type\":\"table\"}]},\"layout\":{\"annotationdefaults\":{\"arrowcolor\":\"#2a3f5f\",\"arrowhead\":0,\"arrowwidth\":1},\"autotypenumbers\":\"strict\",\"coloraxis\":{\"colorbar\":{\"outlinewidth\":0,\"ticks\":\"\"}},\"colorscale\":{\"diverging\":[[0,\"#8e0152\"],[0.1,\"#c51b7d\"],[0.2,\"#de77ae\"],[0.3,\"#f1b6da\"],[0.4,\"#fde0ef\"],[0.5,\"#f7f7f7\"],[0.6,\"#e6f5d0\"],[0.7,\"#b8e186\"],[0.8,\"#7fbc41\"],[0.9,\"#4d9221\"],[1,\"#276419\"]],\"sequential\":[[0.0,\"#0d0887\"],[0.1111111111111111,\"#46039f\"],[0.2222222222222222,\"#7201a8\"],[0.3333333333333333,\"#9c179e\"],[0.4444444444444444,\"#bd3786\"],[0.5555555555555556,\"#d8576b\"],[0.6666666666666666,\"#ed7953\"],[0.7777777777777778,\"#fb9f3a\"],[0.8888888888888888,\"#fdca26\"],[1.0,\"#f0f921\"]],\"sequentialminus\":[[0.0,\"#0d0887\"],[0.1111111111111111,\"#46039f\"],[0.2222222222222222,\"#7201a8\"],[0.3333333333333333,\"#9c179e\"],[0.4444444444444444,\"#bd3786\"],[0.5555555555555556,\"#d8576b\"],[0.6666666666666666,\"#ed7953\"],[0.7777777777777778,\"#fb9f3a\"],[0.8888888888888888,\"#fdca26\"],[1.0,\"#f0f921\"]]},\"colorway\":[\"#636efa\",\"#EF553B\",\"#00cc96\",\"#ab63fa\",\"#FFA15A\",\"#19d3f3\",\"#FF6692\",\"#B6E880\",\"#FF97FF\",\"#FECB52\"],\"font\":{\"color\":\"#2a3f5f\"},\"geo\":{\"bgcolor\":\"white\",\"lakecolor\":\"white\",\"landcolor\":\"white\",\"showlakes\":true,\"showland\":true,\"subunitcolor\":\"#C8D4E3\"},\"hoverlabel\":{\"align\":\"left\"},\"hovermode\":\"closest\",\"mapbox\":{\"style\":\"light\"},\"paper_bgcolor\":\"white\",\"plot_bgcolor\":\"white\",\"polar\":{\"angularaxis\":{\"gridcolor\":\"#EBF0F8\",\"linecolor\":\"#EBF0F8\",\"ticks\":\"\"},\"bgcolor\":\"white\",\"radialaxis\":{\"gridcolor\":\"#EBF0F8\",\"linecolor\":\"#EBF0F8\",\"ticks\":\"\"}},\"scene\":{\"xaxis\":{\"backgroundcolor\":\"white\",\"gridcolor\":\"#DFE8F3\",\"gridwidth\":2,\"linecolor\":\"#EBF0F8\",\"showbackground\":true,\"ticks\":\"\",\"zerolinecolor\":\"#EBF0F8\"},\"yaxis\":{\"backgroundcolor\":\"white\",\"gridcolor\":\"#DFE8F3\",\"gridwidth\":2,\"linecolor\":\"#EBF0F8\",\"showbackground\":true,\"ticks\":\"\",\"zerolinecolor\":\"#EBF0F8\"},\"zaxis\":{\"backgroundcolor\":\"white\",\"gridcolor\":\"#DFE8F3\",\"gridwidth\":2,\"linecolor\":\"#EBF0F8\",\"showbackground\":true,\"ticks\":\"\",\"zerolinecolor\":\"#EBF0F8\"}},\"shapedefaults\":{\"line\":{\"color\":\"#2a3f5f\"}},\"ternary\":{\"aaxis\":{\"gridcolor\":\"#DFE8F3\",\"linecolor\":\"#A2B1C6\",\"ticks\":\"\"},\"baxis\":{\"gridcolor\":\"#DFE8F3\",\"linecolor\":\"#A2B1C6\",\"ticks\":\"\"},\"bgcolor\":\"white\",\"caxis\":{\"gridcolor\":\"#DFE8F3\",\"linecolor\":\"#A2B1C6\",\"ticks\":\"\"}},\"title\":{\"x\":0.05},\"xaxis\":{\"automargin\":true,\"gridcolor\":\"#EBF0F8\",\"linecolor\":\"#EBF0F8\",\"ticks\":\"\",\"title\":{\"standoff\":15},\"zerolinecolor\":\"#EBF0F8\",\"zerolinewidth\":2},\"yaxis\":{\"automargin\":true,\"gridcolor\":\"#EBF0F8\",\"linecolor\":\"#EBF0F8\",\"ticks\":\"\",\"title\":{\"standoff\":15},\"zerolinecolor\":\"#EBF0F8\",\"zerolinewidth\":2}}},\"xaxis\":{\"anchor\":\"y\",\"domain\":[0.0,1.0],\"title\":{\"text\":\"length\"}},\"yaxis\":{\"anchor\":\"x\",\"domain\":[0.0,1.0],\"title\":{\"text\":\"n_links\"}},\"legend\":{\"tracegroupgap\":0},\"margin\":{\"t\":60},\"title\":{\"text\":\"Langlinks: Elfriede Jelinek\"}},                        {\"responsive\": true}                    ).then(function(){\n",
              "                            \n",
              "var gd = document.getElementById('fa462f62-0a32-4197-804a-61365c6ce954');\n",
              "var x = new MutationObserver(function (mutations, observer) {{\n",
              "        var display = window.getComputedStyle(gd).display;\n",
              "        if (!display || display === 'none') {{\n",
              "            console.log([gd, 'removed!']);\n",
              "            Plotly.purge(gd);\n",
              "            observer.disconnect();\n",
              "        }}\n",
              "}});\n",
              "\n",
              "// Listen for the removal of the full notebook cells\n",
              "var notebookContainer = gd.closest('#notebook-container');\n",
              "if (notebookContainer) {{\n",
              "    x.observe(notebookContainer, {childList: true});\n",
              "}}\n",
              "\n",
              "// Listen for the clearing of the current output cell\n",
              "var outputEl = gd.closest('.output');\n",
              "if (outputEl) {{\n",
              "    x.observe(outputEl, {childList: true});\n",
              "}}\n",
              "\n",
              "                        })                };                            </script>        </div>\n",
              "</body>\n",
              "</html>"
            ]
          },
          "metadata": {}
        }
      ]
    },
    {
      "cell_type": "markdown",
      "source": [
        "## Plot Export\n",
        "\n",
        "You may export your generated plot as a static image or interactive HTML.\n",
        "\n",
        "### Formats\n",
        "__HTML__: Interactive plot as shown above. May be viewed using a browser.  \n",
        "__SVG__: Scalable vector graphic. Static image that may be resized without becoming blurry.  \n",
        "__PNG__: Static raster image. May be pixelated or blurry due to Google Colab rendering.\n",
        "\n",
        "\n",
        "### Options\n",
        "`format`: Format to produce  \n",
        "`filename`: Desired filename without extension  \n",
        "\n",
        "__Non-interactive formats only (SVG/PNG)__  \n",
        "`width` and `height`: Dimensions in pixels  \n",
        "`scale`: Scale factor to use when exporting the figure. A scale factor larger than 1.0 will increase the image resolution with respect to the figure’s layout pixel dimensions."
      ],
      "metadata": {
        "id": "dxT2EdHmj-Fj"
      }
    },
    {
      "cell_type": "code",
      "source": [
        "# @title Options\n",
        "format = \"HTML\"  # @param [\"HTML\", \"SVG\", \"PNG\"]\n",
        "filename = \"plot\"  # @param {type:\"string\"}\n",
        "width = 1200  # @param {type:\"number\"}\n",
        "height = 600  # @param {type:\"number\"}\n",
        "scale = 1  # @param {type:\"number\"}\n",
        "\n",
        "plots_dir = \"plots/\"\n",
        "\n",
        "output_file = \"\" + plots_dir + filename\n",
        "\n",
        "if format == \"HTML\":\n",
        "    output_file += \".html\"\n",
        "    plt.write_html(output_file)\n",
        "elif format in [\"PNG\", \"SVG\"]:\n",
        "    output_file += \".\" + format.lower()\n",
        "    plt.write_image(\n",
        "        output_file,\n",
        "        scale=scale,\n",
        "        width=width,\n",
        "        height=height,\n",
        "    )\n",
        "\n",
        "files.download(output_file)"
      ],
      "metadata": {
        "id": "vRWo-6LAOzeM",
        "colab": {
          "base_uri": "https://localhost:8080/",
          "height": 17
        },
        "outputId": "20797af6-5e19-4a1d-ba91-2c5dd0b7541d"
      },
      "execution_count": 9,
      "outputs": [
        {
          "output_type": "display_data",
          "data": {
            "text/plain": [
              "<IPython.core.display.Javascript object>"
            ],
            "application/javascript": [
              "\n",
              "    async function download(id, filename, size) {\n",
              "      if (!google.colab.kernel.accessAllowed) {\n",
              "        return;\n",
              "      }\n",
              "      const div = document.createElement('div');\n",
              "      const label = document.createElement('label');\n",
              "      label.textContent = `Downloading \"${filename}\": `;\n",
              "      div.appendChild(label);\n",
              "      const progress = document.createElement('progress');\n",
              "      progress.max = size;\n",
              "      div.appendChild(progress);\n",
              "      document.body.appendChild(div);\n",
              "\n",
              "      const buffers = [];\n",
              "      let downloaded = 0;\n",
              "\n",
              "      const channel = await google.colab.kernel.comms.open(id);\n",
              "      // Send a message to notify the kernel that we're ready.\n",
              "      channel.send({})\n",
              "\n",
              "      for await (const message of channel.messages) {\n",
              "        // Send a message to notify the kernel that we're ready.\n",
              "        channel.send({})\n",
              "        if (message.buffers) {\n",
              "          for (const buffer of message.buffers) {\n",
              "            buffers.push(buffer);\n",
              "            downloaded += buffer.byteLength;\n",
              "            progress.value = downloaded;\n",
              "          }\n",
              "        }\n",
              "      }\n",
              "      const blob = new Blob(buffers, {type: 'application/binary'});\n",
              "      const a = document.createElement('a');\n",
              "      a.href = window.URL.createObjectURL(blob);\n",
              "      a.download = filename;\n",
              "      div.appendChild(a);\n",
              "      a.click();\n",
              "      div.remove();\n",
              "    }\n",
              "  "
            ]
          },
          "metadata": {}
        },
        {
          "output_type": "display_data",
          "data": {
            "text/plain": [
              "<IPython.core.display.Javascript object>"
            ],
            "application/javascript": [
              "download(\"download_8dee247b-c2f0-4376-bd79-8cad54cfdbd9\", \"plot.svg\", 7497)"
            ]
          },
          "metadata": {}
        }
      ]
    }
  ]
}